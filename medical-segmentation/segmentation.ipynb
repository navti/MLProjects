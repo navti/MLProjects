{
 "cells": [
  {
   "cell_type": "markdown",
   "metadata": {},
   "source": [
    "## Image Segmentation for Medical diagnosis using PyTorch"
   ]
  },
  {
   "cell_type": "code",
   "execution_count": 30,
   "metadata": {},
   "outputs": [],
   "source": [
    "import torch\n",
    "from sklearn.model_selection import train_test_split\n",
    "import glob\n",
    "import json\n",
    "from torch.utils.data import Dataset\n",
    "import cv2\n",
    "from torch.utils.data import random_split"
   ]
  },
  {
   "cell_type": "markdown",
   "metadata": {},
   "source": [
    "### Downlaod the CVC clinic dataset and extract"
   ]
  },
  {
   "cell_type": "code",
   "execution_count": null,
   "metadata": {},
   "outputs": [],
   "source": [
    "# !curl -L -o ~/Downloads/cvcclinicdb.zip\\\n",
    "#   https://www.kaggle.com/api/v1/datasets/download/balraj98/cvcclinicdb\n",
    "# !mkdir data\n",
    "# !unzip ~/Downloads/cvcclinicdb.zip -d data"
   ]
  },
  {
   "cell_type": "code",
   "execution_count": 6,
   "metadata": {},
   "outputs": [],
   "source": [
    "with open(\"./config.json\",\"r\") as f:\n",
    "    config = json.load(f)\n",
    "config\n",
    "image_path = config['data_path']+\"Original/\"\n",
    "mask_path  = config['data_path']+\"Ground Truth/\""
   ]
  },
  {
   "cell_type": "code",
   "execution_count": 13,
   "metadata": {},
   "outputs": [],
   "source": [
    "images = glob.glob(image_path+\"*\"+config['file_extn'])\n",
    "masks  = glob.glob(mask_path+\"*\"+config['file_extn'])"
   ]
  },
  {
   "cell_type": "code",
   "execution_count": 18,
   "metadata": {},
   "outputs": [],
   "source": [
    "\"\"\"\n",
    "Make CVC dataset\n",
    "\"\"\"\n",
    "\n",
    "class CVCDataset(Dataset):\n",
    "    def __init__(self, images, transform=None):\n",
    "        super(CVCDataset, self).__init__()\n",
    "        self.images = images\n",
    "        self.transform = transform\n",
    "\n",
    "    def __len__(self):\n",
    "        return len(self.images)\n",
    "\n",
    "    def __getitem__(self, idx):\n",
    "        img_path = self.images[idx]\n",
    "        img_split = img_path.split('/')\n",
    "        img_name = img_split[-1]\n",
    "        img_dir = '/'.join(img_split[:-2])\n",
    "        mask_path = img_dir+\"/Ground Truth/\"+img_name\n",
    "        image = cv2.imread(img_path)\n",
    "        mask = cv2.imread(mask_path)\n",
    "\n",
    "        if self.transform:\n",
    "            image = self.transform(image)\n",
    "            mask = self.transform(mask)\n",
    "\n",
    "        return image, mask\n"
   ]
  },
  {
   "cell_type": "code",
   "execution_count": 35,
   "metadata": {},
   "outputs": [],
   "source": [
    "imgset = CVCDataset(images)\n",
    "trainset, testset = random_split(imgset, [0.9, 0.1])"
   ]
  }
 ],
 "metadata": {
  "accelerator": "GPU",
  "colab": {
   "collapsed_sections": [],
   "name": "UNET++.ipynb",
   "provenance": []
  },
  "kernelspec": {
   "display_name": "mlenv",
   "language": "python",
   "name": "python3"
  },
  "language_info": {
   "codemirror_mode": {
    "name": "ipython",
    "version": 3
   },
   "file_extension": ".py",
   "mimetype": "text/x-python",
   "name": "python",
   "nbconvert_exporter": "python",
   "pygments_lexer": "ipython3",
   "version": "3.10.14"
  }
 },
 "nbformat": 4,
 "nbformat_minor": 1
}
