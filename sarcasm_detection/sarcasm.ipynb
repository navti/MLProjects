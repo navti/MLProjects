{
 "cells": [
  {
   "cell_type": "code",
   "execution_count": 1,
   "metadata": {},
   "outputs": [],
   "source": [
    "import pandas as pd\n",
    "import seaborn as sns\n",
    "import re\n",
    "import nltk\n",
    "from nltk.stem import WordNetLemmatizer\n",
    "from nltk.tokenize import word_tokenize\n",
    "from nltk.corpus import stopwords\n",
    "from sklearn.model_selection import train_test_split"
   ]
  },
  {
   "cell_type": "code",
   "execution_count": 2,
   "metadata": {},
   "outputs": [
    {
     "name": "stdout",
     "output_type": "stream",
     "text": [
      "<class 'pandas.core.frame.DataFrame'>\n",
      "RangeIndex: 28619 entries, 0 to 28618\n",
      "Data columns (total 3 columns):\n",
      " #   Column        Non-Null Count  Dtype \n",
      "---  ------        --------------  ----- \n",
      " 0   is_sarcastic  28619 non-null  int64 \n",
      " 1   headline      28619 non-null  object\n",
      " 2   article_link  28619 non-null  object\n",
      "dtypes: int64(1), object(2)\n",
      "memory usage: 670.9+ KB\n"
     ]
    }
   ],
   "source": [
    "# load data\n",
    "headlines_file = 'data/Sarcasm_Headlines_Dataset_v2.json'\n",
    "df = pd.read_json(headlines_file, lines = True)\n",
    "\n",
    "df.info()"
   ]
  },
  {
   "cell_type": "code",
   "execution_count": 3,
   "metadata": {},
   "outputs": [
    {
     "data": {
      "text/html": [
       "<div>\n",
       "<style scoped>\n",
       "    .dataframe tbody tr th:only-of-type {\n",
       "        vertical-align: middle;\n",
       "    }\n",
       "\n",
       "    .dataframe tbody tr th {\n",
       "        vertical-align: top;\n",
       "    }\n",
       "\n",
       "    .dataframe thead th {\n",
       "        text-align: right;\n",
       "    }\n",
       "</style>\n",
       "<table border=\"1\" class=\"dataframe\">\n",
       "  <thead>\n",
       "    <tr style=\"text-align: right;\">\n",
       "      <th></th>\n",
       "      <th>is_sarcastic</th>\n",
       "      <th>headline</th>\n",
       "      <th>article_link</th>\n",
       "    </tr>\n",
       "  </thead>\n",
       "  <tbody>\n",
       "    <tr>\n",
       "      <th>0</th>\n",
       "      <td>1</td>\n",
       "      <td>thirtysomething scientists unveil doomsday clo...</td>\n",
       "      <td>https://www.theonion.com/thirtysomething-scien...</td>\n",
       "    </tr>\n",
       "    <tr>\n",
       "      <th>1</th>\n",
       "      <td>0</td>\n",
       "      <td>dem rep. totally nails why congress is falling...</td>\n",
       "      <td>https://www.huffingtonpost.com/entry/donna-edw...</td>\n",
       "    </tr>\n",
       "    <tr>\n",
       "      <th>2</th>\n",
       "      <td>0</td>\n",
       "      <td>eat your veggies: 9 deliciously different recipes</td>\n",
       "      <td>https://www.huffingtonpost.com/entry/eat-your-...</td>\n",
       "    </tr>\n",
       "    <tr>\n",
       "      <th>3</th>\n",
       "      <td>1</td>\n",
       "      <td>inclement weather prevents liar from getting t...</td>\n",
       "      <td>https://local.theonion.com/inclement-weather-p...</td>\n",
       "    </tr>\n",
       "    <tr>\n",
       "      <th>4</th>\n",
       "      <td>1</td>\n",
       "      <td>mother comes pretty close to using word 'strea...</td>\n",
       "      <td>https://www.theonion.com/mother-comes-pretty-c...</td>\n",
       "    </tr>\n",
       "  </tbody>\n",
       "</table>\n",
       "</div>"
      ],
      "text/plain": [
       "   is_sarcastic                                           headline  \\\n",
       "0             1  thirtysomething scientists unveil doomsday clo...   \n",
       "1             0  dem rep. totally nails why congress is falling...   \n",
       "2             0  eat your veggies: 9 deliciously different recipes   \n",
       "3             1  inclement weather prevents liar from getting t...   \n",
       "4             1  mother comes pretty close to using word 'strea...   \n",
       "\n",
       "                                        article_link  \n",
       "0  https://www.theonion.com/thirtysomething-scien...  \n",
       "1  https://www.huffingtonpost.com/entry/donna-edw...  \n",
       "2  https://www.huffingtonpost.com/entry/eat-your-...  \n",
       "3  https://local.theonion.com/inclement-weather-p...  \n",
       "4  https://www.theonion.com/mother-comes-pretty-c...  "
      ]
     },
     "execution_count": 3,
     "metadata": {},
     "output_type": "execute_result"
    }
   ],
   "source": [
    "df.head()"
   ]
  },
  {
   "cell_type": "code",
   "execution_count": 4,
   "metadata": {},
   "outputs": [
    {
     "data": {
      "text/html": [
       "<div>\n",
       "<style scoped>\n",
       "    .dataframe tbody tr th:only-of-type {\n",
       "        vertical-align: middle;\n",
       "    }\n",
       "\n",
       "    .dataframe tbody tr th {\n",
       "        vertical-align: top;\n",
       "    }\n",
       "\n",
       "    .dataframe thead th {\n",
       "        text-align: right;\n",
       "    }\n",
       "</style>\n",
       "<table border=\"1\" class=\"dataframe\">\n",
       "  <thead>\n",
       "    <tr style=\"text-align: right;\">\n",
       "      <th></th>\n",
       "      <th>is_sarcastic</th>\n",
       "      <th>headline</th>\n",
       "      <th>article_link</th>\n",
       "    </tr>\n",
       "  </thead>\n",
       "  <tbody>\n",
       "    <tr>\n",
       "      <th>18572</th>\n",
       "      <td>0</td>\n",
       "      <td>hillary clinton vs. herself</td>\n",
       "      <td>https://www.huffingtonpost.comhttp://nymag.com...</td>\n",
       "    </tr>\n",
       "    <tr>\n",
       "      <th>25743</th>\n",
       "      <td>1</td>\n",
       "      <td>nation not sure how many ex-trump staffers it ...</td>\n",
       "      <td>https://politics.theonion.com/nation-not-sure-...</td>\n",
       "    </tr>\n",
       "  </tbody>\n",
       "</table>\n",
       "</div>"
      ],
      "text/plain": [
       "       is_sarcastic                                           headline  \\\n",
       "18572             0                        hillary clinton vs. herself   \n",
       "25743             1  nation not sure how many ex-trump staffers it ...   \n",
       "\n",
       "                                            article_link  \n",
       "18572  https://www.huffingtonpost.comhttp://nymag.com...  \n",
       "25743  https://politics.theonion.com/nation-not-sure-...  "
      ]
     },
     "execution_count": 4,
     "metadata": {},
     "output_type": "execute_result"
    }
   ],
   "source": [
    "# check for duplicate rows\n",
    "df.loc[df.duplicated() == True]"
   ]
  },
  {
   "cell_type": "code",
   "execution_count": 5,
   "metadata": {},
   "outputs": [],
   "source": [
    "# remove duplicates\n",
    "df.drop_duplicates(inplace=True, ignore_index = True)\n",
    "\n",
    "# drop article link column, don't need it\n",
    "df.drop(columns=['article_link'], inplace=True)"
   ]
  },
  {
   "cell_type": "code",
   "execution_count": 6,
   "metadata": {},
   "outputs": [
    {
     "data": {
      "text/html": [
       "<div>\n",
       "<style scoped>\n",
       "    .dataframe tbody tr th:only-of-type {\n",
       "        vertical-align: middle;\n",
       "    }\n",
       "\n",
       "    .dataframe tbody tr th {\n",
       "        vertical-align: top;\n",
       "    }\n",
       "\n",
       "    .dataframe thead th {\n",
       "        text-align: right;\n",
       "    }\n",
       "</style>\n",
       "<table border=\"1\" class=\"dataframe\">\n",
       "  <thead>\n",
       "    <tr style=\"text-align: right;\">\n",
       "      <th></th>\n",
       "      <th>is_sarcastic</th>\n",
       "      <th>headline</th>\n",
       "    </tr>\n",
       "  </thead>\n",
       "  <tbody>\n",
       "    <tr>\n",
       "      <th>0</th>\n",
       "      <td>1</td>\n",
       "      <td>thirtysomething scientists unveil doomsday clo...</td>\n",
       "    </tr>\n",
       "    <tr>\n",
       "      <th>1</th>\n",
       "      <td>0</td>\n",
       "      <td>dem rep. totally nails why congress is falling...</td>\n",
       "    </tr>\n",
       "    <tr>\n",
       "      <th>2</th>\n",
       "      <td>0</td>\n",
       "      <td>eat your veggies: 9 deliciously different recipes</td>\n",
       "    </tr>\n",
       "    <tr>\n",
       "      <th>3</th>\n",
       "      <td>1</td>\n",
       "      <td>inclement weather prevents liar from getting t...</td>\n",
       "    </tr>\n",
       "    <tr>\n",
       "      <th>4</th>\n",
       "      <td>1</td>\n",
       "      <td>mother comes pretty close to using word 'strea...</td>\n",
       "    </tr>\n",
       "  </tbody>\n",
       "</table>\n",
       "</div>"
      ],
      "text/plain": [
       "   is_sarcastic                                           headline\n",
       "0             1  thirtysomething scientists unveil doomsday clo...\n",
       "1             0  dem rep. totally nails why congress is falling...\n",
       "2             0  eat your veggies: 9 deliciously different recipes\n",
       "3             1  inclement weather prevents liar from getting t...\n",
       "4             1  mother comes pretty close to using word 'strea..."
      ]
     },
     "execution_count": 6,
     "metadata": {},
     "output_type": "execute_result"
    }
   ],
   "source": [
    "df.head()"
   ]
  },
  {
   "cell_type": "markdown",
   "metadata": {},
   "source": [
    "### Check if dataset is balanced"
   ]
  },
  {
   "cell_type": "code",
   "execution_count": 7,
   "metadata": {},
   "outputs": [
    {
     "name": "stdout",
     "output_type": "stream",
     "text": [
      "              headline\n",
      "is_sarcastic          \n",
      "0                14984\n",
      "1                13633\n"
     ]
    },
    {
     "data": {
      "image/png": "[encoded data removed]",
      "text/plain": [
       "<Figure size 640x480 with 1 Axes>"
      ]
     },
     "metadata": {},
     "output_type": "display_data"
    }
   ],
   "source": [
    "# group by label\n",
    "group_obj = df.groupby('is_sarcastic')\n",
    "print(group_obj.count())\n",
    "\n",
    "# bar plot to visualize\n",
    "sns.barplot(group_obj.agg('count')['headline']);"
   ]
  },
  {
   "cell_type": "code",
   "execution_count": 8,
   "metadata": {},
   "outputs": [
    {
     "data": {
      "text/plain": [
       "count    28617.000000\n",
       "mean        62.309711\n",
       "std         20.726151\n",
       "min          7.000000\n",
       "25%         49.000000\n",
       "50%         62.000000\n",
       "75%         75.000000\n",
       "max        926.000000\n",
       "Name: headline, dtype: float64"
      ]
     },
     "execution_count": 8,
     "metadata": {},
     "output_type": "execute_result"
    }
   ],
   "source": [
    "# check the spread of headlines length\n",
    "df['headline'].str.len().describe()"
   ]
  },
  {
   "cell_type": "code",
   "execution_count": 9,
   "metadata": {},
   "outputs": [
    {
     "data": {
      "text/plain": [
       "<Axes: ylabel='headline'>"
      ]
     },
     "execution_count": 9,
     "metadata": {},
     "output_type": "execute_result"
    },
    {
     "data": {
      "image/png": "[encoded data removed]",
      "text/plain": [
       "<Figure size 640x480 with 1 Axes>"
      ]
     },
     "metadata": {},
     "output_type": "display_data"
    }
   ],
   "source": [
    "sns.boxplot(df['headline'].str.len())"
   ]
  },
  {
   "cell_type": "markdown",
   "metadata": {},
   "source": [
    "### Above box plot shows some outliers, let's clean that"
   ]
  },
  {
   "cell_type": "code",
   "execution_count": 10,
   "metadata": {},
   "outputs": [
    {
     "name": "stdout",
     "output_type": "stream",
     "text": [
      "Origina shape of DataFrame: (28617, 3)\n",
      "DataFrame shape after cleaning : (28313, 2)\n"
     ]
    }
   ],
   "source": [
    "# add length column\n",
    "df['length'] = df['headline'].str.len()\n",
    "\n",
    "# calculate Q1, Q3 and IQR\n",
    "Q1 = df['length'].quantile(0.25)\n",
    "Q3 = df['length'].quantile(0.75)\n",
    "IQR = Q3 - Q1\n",
    "\n",
    "# find lower and upper bounds beyond which outliers exist\n",
    "lower_bound = Q1 - 1.5 * IQR\n",
    "upper_bound = Q3 + 1.5 * IQR\n",
    "\n",
    "# remove outliers\n",
    "df_cleaned = df[(df['length'] >= lower_bound) & (df['length'] <= upper_bound)]\n",
    "\n",
    "# drop length column, it's job is done\n",
    "df_cleaned = df_cleaned.drop(columns='length')\n",
    "\n",
    "print(\"Origina shape of DataFrame:\", df.shape)\n",
    "print(\"DataFrame shape after cleaning :\", df_cleaned.shape)"
   ]
  },
  {
   "cell_type": "code",
   "execution_count": 11,
   "metadata": {},
   "outputs": [
    {
     "data": {
      "text/plain": [
       "count    28313.000000\n",
       "mean        61.629146\n",
       "std         18.980705\n",
       "min         10.000000\n",
       "25%         49.000000\n",
       "50%         62.000000\n",
       "75%         74.000000\n",
       "max        114.000000\n",
       "Name: headline, dtype: float64"
      ]
     },
     "execution_count": 11,
     "metadata": {},
     "output_type": "execute_result"
    }
   ],
   "source": [
    "df_cleaned.headline.str.len().describe()"
   ]
  },
  {
   "cell_type": "markdown",
   "metadata": {},
   "source": [
    "### Prepare data"
   ]
  },
  {
   "cell_type": "code",
   "execution_count": 12,
   "metadata": {},
   "outputs": [
    {
     "name": "stderr",
     "output_type": "stream",
     "text": [
      "[nltk_data] Downloading package punkt_tab to /home/codez/nltk_data...\n",
      "[nltk_data]   Package punkt_tab is already up-to-date!\n",
      "[nltk_data] Downloading package wordnet to /home/codez/nltk_data...\n",
      "[nltk_data]   Package wordnet is already up-to-date!\n",
      "[nltk_data] Downloading package stopwords to /home/codez/nltk_data...\n",
      "[nltk_data]   Package stopwords is already up-to-date!\n"
     ]
    }
   ],
   "source": [
    "nltk.download('punkt_tab')\n",
    "nltk.download('wordnet')\n",
    "nltk.download('stopwords')\n",
    "\n",
    "# Initialize the lemmatizer and get the list of stop words\n",
    "lemmatizer = WordNetLemmatizer()\n",
    "stop_words = set(stopwords.words('english'))\n",
    "\n",
    "# Function for tokenization, stop word removal and lemmatization\n",
    "def preprocess_text(text):\n",
    "    # Remove special characters\n",
    "    text = re.sub(r'[^a-zA-Z\\s]', '', text) # Keep only letters and spaces\n",
    "    # Tokenization\n",
    "    tokens = word_tokenize(text.lower()) # Convert to lower case\n",
    "    # Remove stop words and lemmatization\n",
    "    cleaned_tokens = [lemmatizer.lemmatize(token) for token in tokens if token not in stop_words]\n",
    "    return ' '.join(cleaned_tokens)"
   ]
  },
  {
   "cell_type": "code",
   "execution_count": 13,
   "metadata": {},
   "outputs": [
    {
     "data": {
      "text/html": [
       "<div>\n",
       "<style scoped>\n",
       "    .dataframe tbody tr th:only-of-type {\n",
       "        vertical-align: middle;\n",
       "    }\n",
       "\n",
       "    .dataframe tbody tr th {\n",
       "        vertical-align: top;\n",
       "    }\n",
       "\n",
       "    .dataframe thead th {\n",
       "        text-align: right;\n",
       "    }\n",
       "</style>\n",
       "<table border=\"1\" class=\"dataframe\">\n",
       "  <thead>\n",
       "    <tr style=\"text-align: right;\">\n",
       "      <th></th>\n",
       "      <th>is_sarcastic</th>\n",
       "      <th>headline</th>\n",
       "    </tr>\n",
       "  </thead>\n",
       "  <tbody>\n",
       "    <tr>\n",
       "      <th>0</th>\n",
       "      <td>1</td>\n",
       "      <td>thirtysomething scientist unveil doomsday cloc...</td>\n",
       "    </tr>\n",
       "    <tr>\n",
       "      <th>1</th>\n",
       "      <td>0</td>\n",
       "      <td>dem rep totally nail congress falling short ge...</td>\n",
       "    </tr>\n",
       "    <tr>\n",
       "      <th>2</th>\n",
       "      <td>0</td>\n",
       "      <td>eat veggie deliciously different recipe</td>\n",
       "    </tr>\n",
       "    <tr>\n",
       "      <th>3</th>\n",
       "      <td>1</td>\n",
       "      <td>inclement weather prevents liar getting work</td>\n",
       "    </tr>\n",
       "    <tr>\n",
       "      <th>4</th>\n",
       "      <td>1</td>\n",
       "      <td>mother come pretty close using word streaming ...</td>\n",
       "    </tr>\n",
       "    <tr>\n",
       "      <th>...</th>\n",
       "      <td>...</td>\n",
       "      <td>...</td>\n",
       "    </tr>\n",
       "    <tr>\n",
       "      <th>28612</th>\n",
       "      <td>1</td>\n",
       "      <td>jew celebrate rosh hashasha something</td>\n",
       "    </tr>\n",
       "    <tr>\n",
       "      <th>28613</th>\n",
       "      <td>1</td>\n",
       "      <td>internal affair investigator disappointed cons...</td>\n",
       "    </tr>\n",
       "    <tr>\n",
       "      <th>28614</th>\n",
       "      <td>0</td>\n",
       "      <td>beautiful acceptance speech week came queer ko...</td>\n",
       "    </tr>\n",
       "    <tr>\n",
       "      <th>28615</th>\n",
       "      <td>1</td>\n",
       "      <td>mar probe destroyed orbiting spielberggates sp...</td>\n",
       "    </tr>\n",
       "    <tr>\n",
       "      <th>28616</th>\n",
       "      <td>1</td>\n",
       "      <td>dad clarifies food stop</td>\n",
       "    </tr>\n",
       "  </tbody>\n",
       "</table>\n",
       "<p>28313 rows × 2 columns</p>\n",
       "</div>"
      ],
      "text/plain": [
       "       is_sarcastic                                           headline\n",
       "0                 1  thirtysomething scientist unveil doomsday cloc...\n",
       "1                 0  dem rep totally nail congress falling short ge...\n",
       "2                 0            eat veggie deliciously different recipe\n",
       "3                 1       inclement weather prevents liar getting work\n",
       "4                 1  mother come pretty close using word streaming ...\n",
       "...             ...                                                ...\n",
       "28612             1              jew celebrate rosh hashasha something\n",
       "28613             1  internal affair investigator disappointed cons...\n",
       "28614             0  beautiful acceptance speech week came queer ko...\n",
       "28615             1  mar probe destroyed orbiting spielberggates sp...\n",
       "28616             1                            dad clarifies food stop\n",
       "\n",
       "[28313 rows x 2 columns]"
      ]
     },
     "execution_count": 13,
     "metadata": {},
     "output_type": "execute_result"
    }
   ],
   "source": [
    "df_prepared = df_cleaned.copy()\n",
    "df_prepared['headline'] = df_cleaned['headline'].apply(preprocess_text)\n",
    "\n",
    "df_prepared"
   ]
  },
  {
   "cell_type": "code",
   "execution_count": 14,
   "metadata": {},
   "outputs": [
    {
     "data": {
      "text/plain": [
       "((19819,), (8494,), (19819,), (8494,))"
      ]
     },
     "execution_count": 14,
     "metadata": {},
     "output_type": "execute_result"
    }
   ],
   "source": [
    "X_train, X_test, y_train, y_test = train_test_split(df_prepared['headline'], df_prepared['is_sarcastic'], test_size=0.3, random_state=42)\n",
    "X_train.shape, X_test.shape, y_train.shape, y_test.shape"
   ]
  },
  {
   "cell_type": "markdown",
   "metadata": {},
   "source": [
    "### Create and train models"
   ]
  },
  {
   "cell_type": "code",
   "execution_count": 15,
   "metadata": {},
   "outputs": [],
   "source": [
    "import pathlib\n",
    "import pickle\n",
    "from time import time\n",
    "from sklearn.linear_model import LogisticRegression\n",
    "from sklearn.naive_bayes import MultinomialNB\n",
    "from sklearn.ensemble import RandomForestClassifier\n",
    "from sklearn.svm import SVC\n",
    "from sklearn.feature_extraction.text import CountVectorizer\n",
    "from sklearn.metrics import accuracy_score, f1_score, precision_score, recall_score"
   ]
  },
  {
   "cell_type": "code",
   "execution_count": 16,
   "metadata": {},
   "outputs": [],
   "source": [
    "# Vectorize text data\n",
    "vectorizer = CountVectorizer()\n",
    "X_train_vec = vectorizer.fit_transform(X_train)\n",
    "X_test_vec = vectorizer.transform(X_test)\n",
    "\n",
    "model_dir = './models'\n",
    "pathlib.Path(model_dir).mkdir(parents=True, exist_ok=True)\n",
    "vectorizer_path = f\"{model_dir}/vectorizer.pkl\"\n",
    "with open(vectorizer_path, \"wb\") as vectorizer_file:\n",
    "    pickle.dump(vectorizer_path, vectorizer_file)\n",
    "\n",
    "# List of models to train\n",
    "models = {\n",
    "'Logistic Regression': LogisticRegression(max_iter=1000),\n",
    "'Naive Bayes': MultinomialNB(),\n",
    "'Random Forest': RandomForestClassifier(),\n",
    "'SVM': SVC()\n",
    "}\n"
   ]
  },
  {
   "cell_type": "code",
   "execution_count": 17,
   "metadata": {},
   "outputs": [
    {
     "data": {
      "text/html": [
       "<div>\n",
       "<style scoped>\n",
       "    .dataframe tbody tr th:only-of-type {\n",
       "        vertical-align: middle;\n",
       "    }\n",
       "\n",
       "    .dataframe tbody tr th {\n",
       "        vertical-align: top;\n",
       "    }\n",
       "\n",
       "    .dataframe thead th {\n",
       "        text-align: right;\n",
       "    }\n",
       "</style>\n",
       "<table border=\"1\" class=\"dataframe\">\n",
       "  <thead>\n",
       "    <tr style=\"text-align: right;\">\n",
       "      <th></th>\n",
       "      <th>accuracy</th>\n",
       "      <th>f1_score</th>\n",
       "      <th>precision</th>\n",
       "      <th>recall</th>\n",
       "      <th>time</th>\n",
       "    </tr>\n",
       "  </thead>\n",
       "  <tbody>\n",
       "    <tr>\n",
       "      <th>Logistic Regression</th>\n",
       "      <td>0.788321</td>\n",
       "      <td>0.768835</td>\n",
       "      <td>0.797546</td>\n",
       "      <td>0.742120</td>\n",
       "      <td>3.759320</td>\n",
       "    </tr>\n",
       "    <tr>\n",
       "      <th>Naive Bayes</th>\n",
       "      <td>0.795738</td>\n",
       "      <td>0.781898</td>\n",
       "      <td>0.792155</td>\n",
       "      <td>0.771904</td>\n",
       "      <td>0.003115</td>\n",
       "    </tr>\n",
       "    <tr>\n",
       "      <th>Random Forest</th>\n",
       "      <td>0.749706</td>\n",
       "      <td>0.696199</td>\n",
       "      <td>0.820478</td>\n",
       "      <td>0.604617</td>\n",
       "      <td>26.433718</td>\n",
       "    </tr>\n",
       "    <tr>\n",
       "      <th>SVM</th>\n",
       "      <td>0.784789</td>\n",
       "      <td>0.753904</td>\n",
       "      <td>0.823772</td>\n",
       "      <td>0.694962</td>\n",
       "      <td>37.233810</td>\n",
       "    </tr>\n",
       "  </tbody>\n",
       "</table>\n",
       "</div>"
      ],
      "text/plain": [
       "                     accuracy  f1_score  precision    recall       time\n",
       "Logistic Regression  0.788321  0.768835   0.797546  0.742120   3.759320\n",
       "Naive Bayes          0.795738  0.781898   0.792155  0.771904   0.003115\n",
       "Random Forest        0.749706  0.696199   0.820478  0.604617  26.433718\n",
       "SVM                  0.784789  0.753904   0.823772  0.694962  37.233810"
      ]
     },
     "execution_count": 17,
     "metadata": {},
     "output_type": "execute_result"
    }
   ],
   "source": [
    "results = {}\n",
    "predictions = {}\n",
    "\n",
    "# train and evaluate models\n",
    "for model_name, model in models.items():\n",
    "    start_time = time()\n",
    "    model.fit(X_train_vec, y_train)\n",
    "    end_time = time()\n",
    "    y_pred = model.predict(X_test_vec)\n",
    "\n",
    "    # evaluate\n",
    "    results[model_name] = {\n",
    "        'accuracy': accuracy_score(y_test, y_pred),\n",
    "        'f1_score': f1_score(y_test, y_pred),\n",
    "        'precision': precision_score(y_test, y_pred),\n",
    "        'recall': recall_score(y_test, y_pred),\n",
    "        'time': end_time - start_time\n",
    "    }\n",
    "\n",
    "results_df = pd.DataFrame(results).T\n",
    "results_df.head()"
   ]
  },
  {
   "cell_type": "markdown",
   "metadata": {},
   "source": [
    "### plot metrics"
   ]
  },
  {
   "cell_type": "code",
   "execution_count": 18,
   "metadata": {},
   "outputs": [
    {
     "data": {
      "image/png": "[encoded data removed]",
      "text/plain": [
       "<Figure size 1200x500 with 4 Axes>"
      ]
     },
     "metadata": {},
     "output_type": "display_data"
    }
   ],
   "source": [
    "import matplotlib.pyplot as plt\n",
    "\n",
    "fig, axs = plt.subplots(2, 2, figsize=(12, 5))\n",
    "\n",
    "# F1 Score\n",
    "axs[0, 0].bar(results_df.index, results_df['f1_score'], color='skyblue')\n",
    "axs[0, 0].set_title('F1 Score')\n",
    "axs[0, 0].set_ylabel('F1 Score')\n",
    "axs[0, 0].axhline(y=0.7, color='r', linestyle='--')  # Линия для 70%\n",
    "\n",
    "# Precision\n",
    "axs[0, 1].bar(results_df.index, results_df['precision'], color='lightgreen')\n",
    "axs[0, 1].set_title('Precision')\n",
    "axs[0, 1].set_ylabel('Precision')\n",
    "axs[0, 1].axhline(y=0.7, color='r', linestyle='--')\n",
    "\n",
    "# Recall\n",
    "axs[1, 0].bar(results_df.index, results_df['recall'], color='salmon')\n",
    "axs[1, 0].set_title('Recall')\n",
    "axs[1, 0].set_ylabel('Recall')\n",
    "axs[1, 0].axhline(y=0.7, color='r', linestyle='--')\n",
    "\n",
    "axs[1, 1].bar(results_df.index, results_df['time'], color='gold')\n",
    "axs[1, 1].set_title('Time to Train (seconds)')\n",
    "axs[1, 1].set_ylabel('Time (s)')\n",
    "\n",
    "plt.tight_layout()\n",
    "plt.show()"
   ]
  },
  {
   "cell_type": "markdown",
   "metadata": {},
   "source": [
    "All models show good results, but the Random Forest model has less recall. SVM takes a lot of time to train compared to other models.\n",
    "\n",
    "According to the obtained metrics, the Naive Bayes model seems to perform best.\n",
    "\n",
    "Let's try to calculate the KPI of models for automatic selection of the best one."
   ]
  },
  {
   "cell_type": "code",
   "execution_count": 19,
   "metadata": {},
   "outputs": [
    {
     "name": "stdout",
     "output_type": "stream",
     "text": [
      "                     accuracy  f1_score  precision    recall       time  \\\n",
      "Logistic Regression  0.788321  0.768835   0.797546  0.742120   3.759320   \n",
      "Naive Bayes          0.795738  0.781898   0.792155  0.771904   0.003115   \n",
      "Random Forest        0.749706  0.696199   0.820478  0.604617  26.433718   \n",
      "SVM                  0.784789  0.753904   0.823772  0.694962  37.233810   \n",
      "\n",
      "                     normalized_time       KPI  \n",
      "Logistic Regression         0.100890  2.995932  \n",
      "Naive Bayes                 0.000000  3.141695  \n",
      "Random Forest               0.709914  2.161085  \n",
      "SVM                         1.000000  2.057427  \n",
      "\n",
      "****************************************************************************************************\n",
      "best model:\n",
      "Naive Bayes\n"
     ]
    }
   ],
   "source": [
    "def best_model(results_df):\n",
    "\n",
    "    # normalize time\n",
    "    results_df['normalized_time'] = (results_df['time'] - results_df['time'].min()) / (results_df['time'].max() - results_df['time'].min())\n",
    "\n",
    "    # calculate KPI\n",
    "    results_df['KPI'] = (results_df['accuracy'] +\n",
    "                     results_df['f1_score'] +\n",
    "                     results_df['precision'] +\n",
    "                     results_df['recall'] -\n",
    "                     results_df['normalized_time'])\n",
    "    print(results_df)\n",
    "\n",
    "    # model with max KPI\n",
    "    best_model_index = results_df['KPI'].idxmax()\n",
    "    best_model = results_df.loc[best_model_index]\n",
    "    print(\"\")\n",
    "    print(\"*\"*100)\n",
    "    print(\"best model:\")\n",
    "    print(best_model.name)\n",
    "\n",
    "    return best_model\n",
    "\n",
    "model=best_model(results_df)\n",
    "\n",
    "# save the best model\n",
    "model_dir = './models'\n",
    "pathlib.Path(model_dir).mkdir(parents=True, exist_ok=True)\n",
    "save_model_path = f\"{model_dir}/model.pkl\"\n",
    "with open(save_model_path, \"wb\") as f:\n",
    "    pickle.dump(model, f)\n"
   ]
  },
  {
   "cell_type": "code",
   "execution_count": 20,
   "metadata": {},
   "outputs": [
    {
     "ename": "FileNotFoundError",
     "evalue": "[Errno 2] No such file or directory: './models/vectorizer.pkl'",
     "output_type": "error",
     "traceback": [
      "\u001b[0;31m---------------------------------------------------------------------------\u001b[0m",
      "\u001b[0;31mFileNotFoundError\u001b[0m                         Traceback (most recent call last)",
      "Cell \u001b[0;32mIn[20], line 10\u001b[0m\n\u001b[1;32m      7\u001b[0m     model \u001b[38;5;241m=\u001b[39m pickle\u001b[38;5;241m.\u001b[39mload(f)\n\u001b[1;32m      9\u001b[0m vectorizer_path \u001b[38;5;241m=\u001b[39m \u001b[38;5;124mf\u001b[39m\u001b[38;5;124m\"\u001b[39m\u001b[38;5;132;01m{\u001b[39;00mmodel_dir\u001b[38;5;132;01m}\u001b[39;00m\u001b[38;5;124m/vectorizer.pkl\u001b[39m\u001b[38;5;124m\"\u001b[39m\n\u001b[0;32m---> 10\u001b[0m \u001b[38;5;28;01mwith\u001b[39;00m \u001b[38;5;28;43mopen\u001b[39;49m\u001b[43m(\u001b[49m\u001b[43mvectorizer_path\u001b[49m\u001b[43m,\u001b[49m\u001b[43m \u001b[49m\u001b[38;5;124;43m\"\u001b[39;49m\u001b[38;5;124;43mrb\u001b[39;49m\u001b[38;5;124;43m\"\u001b[39;49m\u001b[43m)\u001b[49m \u001b[38;5;28;01mas\u001b[39;00m v:\n\u001b[1;32m     11\u001b[0m     model \u001b[38;5;241m=\u001b[39m pickle\u001b[38;5;241m.\u001b[39mload(v)\n",
      "File \u001b[0;32m~/anaconda3/envs/mlenv/lib/python3.12/site-packages/IPython/core/interactiveshell.py:324\u001b[0m, in \u001b[0;36m_modified_open\u001b[0;34m(file, *args, **kwargs)\u001b[0m\n\u001b[1;32m    317\u001b[0m \u001b[38;5;28;01mif\u001b[39;00m file \u001b[38;5;129;01min\u001b[39;00m {\u001b[38;5;241m0\u001b[39m, \u001b[38;5;241m1\u001b[39m, \u001b[38;5;241m2\u001b[39m}:\n\u001b[1;32m    318\u001b[0m     \u001b[38;5;28;01mraise\u001b[39;00m \u001b[38;5;167;01mValueError\u001b[39;00m(\n\u001b[1;32m    319\u001b[0m         \u001b[38;5;124mf\u001b[39m\u001b[38;5;124m\"\u001b[39m\u001b[38;5;124mIPython won\u001b[39m\u001b[38;5;124m'\u001b[39m\u001b[38;5;124mt let you open fd=\u001b[39m\u001b[38;5;132;01m{\u001b[39;00mfile\u001b[38;5;132;01m}\u001b[39;00m\u001b[38;5;124m by default \u001b[39m\u001b[38;5;124m\"\u001b[39m\n\u001b[1;32m    320\u001b[0m         \u001b[38;5;124m\"\u001b[39m\u001b[38;5;124mas it is likely to crash IPython. If you know what you are doing, \u001b[39m\u001b[38;5;124m\"\u001b[39m\n\u001b[1;32m    321\u001b[0m         \u001b[38;5;124m\"\u001b[39m\u001b[38;5;124myou can use builtins\u001b[39m\u001b[38;5;124m'\u001b[39m\u001b[38;5;124m open.\u001b[39m\u001b[38;5;124m\"\u001b[39m\n\u001b[1;32m    322\u001b[0m     )\n\u001b[0;32m--> 324\u001b[0m \u001b[38;5;28;01mreturn\u001b[39;00m \u001b[43mio_open\u001b[49m\u001b[43m(\u001b[49m\u001b[43mfile\u001b[49m\u001b[43m,\u001b[49m\u001b[43m \u001b[49m\u001b[38;5;241;43m*\u001b[39;49m\u001b[43margs\u001b[49m\u001b[43m,\u001b[49m\u001b[43m \u001b[49m\u001b[38;5;241;43m*\u001b[39;49m\u001b[38;5;241;43m*\u001b[39;49m\u001b[43mkwargs\u001b[49m\u001b[43m)\u001b[49m\n",
      "\u001b[0;31mFileNotFoundError\u001b[0m: [Errno 2] No such file or directory: './models/vectorizer.pkl'"
     ]
    }
   ],
   "source": [
    "import pickle\n",
    "\n",
    "# load model and vectorizer\n",
    "model_dir = './models'\n",
    "load_model_path = f\"{model_dir}/model.pkl\"\n",
    "with open(load_model_path, \"rb\") as f:\n",
    "    model = pickle.load(f)\n",
    "\n",
    "vectorizer_path = f\"{model_dir}/vectorizer.pkl\"\n",
    "with open(vectorizer_path, \"rb\") as v:\n",
    "    model = pickle.load(v)"
   ]
  },
  {
   "cell_type": "code",
   "execution_count": null,
   "metadata": {},
   "outputs": [],
   "source": [
    "sample = \"Yeah right! And I'm the cry baby.\""
   ]
  },
  {
   "cell_type": "code",
   "execution_count": 5,
   "metadata": {},
   "outputs": [
    {
     "data": {
      "text/plain": [
       "sklearn.naive_bayes.MultinomialNB"
      ]
     },
     "execution_count": 5,
     "metadata": {},
     "output_type": "execute_result"
    }
   ],
   "source": [
    "type(model)"
   ]
  }
 ],
 "metadata": {
  "kernelspec": {
   "display_name": "mlenv",
   "language": "python",
   "name": "python3"
  },
  "language_info": {
   "codemirror_mode": {
    "name": "ipython",
    "version": 3
   },
   "file_extension": ".py",
   "mimetype": "text/x-python",
   "name": "python",
   "nbconvert_exporter": "python",
   "pygments_lexer": "ipython3",
   "version": "3.12.8"
  }
 },
 "nbformat": 4,
 "nbformat_minor": 2
}
